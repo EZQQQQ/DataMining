{
  "nbformat": 4,
  "nbformat_minor": 0,
  "metadata": {
    "colab": {
      "provenance": []
    },
    "kernelspec": {
      "name": "python3",
      "display_name": "Python 3"
    },
    "language_info": {
      "name": "python"
    }
  },
  "cells": [
    {
      "cell_type": "code",
      "execution_count": 1,
      "metadata": {
        "colab": {
          "base_uri": "https://localhost:8080/"
        },
        "id": "SdVk0VSYbfEM",
        "outputId": "622335b9-be30-4b4a-ce0b-7ebbc5d4fa84"
      },
      "outputs": [
        {
          "output_type": "stream",
          "name": "stdout",
          "text": [
            "The names of five TV shows that have the highest similarity scores for Alex \n",
            "for the user-user collaborative filtering are:\n",
            "\n",
            "FOX 28 News at 10pm, with similarity score 908.4800534761279\n",
            "Family Guy, with similarity score 861.17599928733\n",
            "2009 NCAA Basketball Tournament, with similarity score 827.6012954743582\n",
            "NBC 4 at Eleven, with similarity score 784.7819589039738\n",
            "Two and a Half Men, with similarity score 757.6011181024228\n",
            "==============================\n",
            "The names of five TV shows that have the highest similarity scores for Alex \n",
            "for the item-item collaborative filtering are:\n",
            "\n",
            "FOX 28 News at 10pm, with similarity score 31.364701678342396\n",
            "Family Guy, with similarity score 30.001141798877764\n",
            "NBC 4 at Eleven, with similarity score 29.396797773402543\n",
            "2009 NCAA Basketball Tournament, with similarity score 29.22700156150048\n",
            "Access Hollywood, with similarity score 28.971277674055564\n"
          ]
        }
      ],
      "source": [
        "import numpy as np\n",
        "from numpy.linalg import inv\n",
        "\n",
        "# Load user-show matrix from file\n",
        "user_shows_matrix = np.loadtxt('user-shows.txt')\n",
        "\n",
        "# Initialize matrices P and Q with zeros\n",
        "P = np.zeros((user_shows_matrix.shape[0], user_shows_matrix.shape[0]))\n",
        "Q = np.zeros((user_shows_matrix.shape[1], user_shows_matrix.shape[1]))\n",
        "\n",
        "# Load TV shows names from file\n",
        "shows_file = 'shows.txt'\n",
        "shows_list = []\n",
        "\n",
        "# Read TV shows names from file\n",
        "with open(shows_file, 'r') as f:\n",
        "    for line in f:\n",
        "        shows_name = line.strip().replace('\"', '')\n",
        "        shows_list.append(shows_name)\n",
        "\n",
        "# Compute row and column sums for user-show matrix\n",
        "row_sums = user_shows_matrix.sum(axis=0)\n",
        "col_sums = user_shows_matrix.sum(axis=1)\n",
        "\n",
        "# Populate matrices P and Q with row and column sums respectively\n",
        "for i in range(len(col_sums)):\n",
        "    P[i, i] = col_sums[i]\n",
        "\n",
        "for i in range(len(row_sums)):\n",
        "    Q[i, i] = row_sums[i]\n",
        "\n",
        "# Compute Gamma_uu and Gamma_ii using user-show matrix and matrices P, Q\n",
        "Gamma_uu = (inv(P) ** 0.5) @ user_shows_matrix @ user_shows_matrix.T @ (inv(P) ** 0.5) @ user_shows_matrix\n",
        "Gamma_ii = user_shows_matrix @ (inv(Q) ** 0.5) @ user_shows_matrix.T @ user_shows_matrix @ (inv(Q) ** 0.5)\n",
        "\n",
        "# Find the top 5 TV shows for user-user collaborative filtering\n",
        "top5_uu_indexes = (-Gamma_uu[499, :100]).argsort()[:5]\n",
        "print(\"The names of five TV shows that have the highest similarity scores for Alex \\nfor the user-user collaborative filtering are:\\n\")\n",
        "for index in top5_uu_indexes:\n",
        "    print(\"{}, with similarity score {}\".format(shows_list[index], Gamma_uu[499, index]))\n",
        "\n",
        "print(\"=\" * 30)\n",
        "\n",
        "# Find the top 5 TV shows for item-item collaborative filtering\n",
        "top5_ii_indexes = (-Gamma_ii[499, :100]).argsort()[:5]\n",
        "print(\"The names of five TV shows that have the highest similarity scores for Alex \\nfor the item-item collaborative filtering are:\\n\")\n",
        "for index in top5_ii_indexes:\n",
        "    print(\"{}, with similarity score {}\".format(shows_list[index], Gamma_ii[499, index]))\n"
      ]
    }
  ]
}