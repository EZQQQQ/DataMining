{
  "nbformat": 4,
  "nbformat_minor": 0,
  "metadata": {
    "colab": {
      "provenance": []
    },
    "kernelspec": {
      "name": "python3",
      "display_name": "Python 3"
    },
    "language_info": {
      "name": "python"
    }
  },
  "cells": [
    {
      "cell_type": "markdown",
      "source": [
        "(c)\n",
        "Identify pairs of items (X, Y ) such that the support of {X, Y } is at least 100. For all such pairs, compute the confidence scores of the corresponding association rules: X ⇒ Y , Y ⇒ X. Sort the rules in decreasing order of confidence scores and list the top 5 rules in the writeup. Break ties, if any, by lexicographically increasing order on the left hand side of the rule."
      ],
      "metadata": {
        "id": "iTlFwZCmzoaM"
      }
    },
    {
      "cell_type": "code",
      "execution_count": 1,
      "metadata": {
        "colab": {
          "base_uri": "https://localhost:8080/"
        },
        "id": "5x2X0NBTb6Jv",
        "outputId": "00d52d8b-8780-4880-eb42-9c640c92de20"
      },
      "outputs": [
        {
          "output_type": "stream",
          "name": "stdout",
          "text": [
            "Requirement already satisfied: apyori in /usr/local/lib/python3.10/dist-packages (1.1.2)\n"
          ]
        }
      ],
      "source": [
        "!pip install apyori\n"
      ]
    },
    {
      "cell_type": "code",
      "source": [
        "import os\n",
        "from apyori import apriori\n",
        "import itertools\n",
        "os.environ[\"JAVA_HOME\"] = \"/usr/lib/jvm/java-8-openjdk-amd64\""
      ],
      "metadata": {
        "id": "udyZGFXR1IA2"
      },
      "execution_count": 2,
      "outputs": []
    },
    {
      "cell_type": "code",
      "source": [
        "from pydrive.auth import GoogleAuth\n",
        "from pydrive.drive import GoogleDrive\n",
        "from google.colab import auth\n",
        "from oauth2client.client import GoogleCredentials"
      ],
      "metadata": {
        "id": "Lwr7ofSb2qsl"
      },
      "execution_count": 3,
      "outputs": []
    },
    {
      "cell_type": "code",
      "source": [
        "# Authenticate and create the PyDrive client\n",
        "auth.authenticate_user()\n",
        "gauth = GoogleAuth()\n",
        "gauth.credentials = GoogleCredentials.get_application_default()\n",
        "drive = GoogleDrive(gauth)"
      ],
      "metadata": {
        "id": "4PTlHkSO1tIj"
      },
      "execution_count": 4,
      "outputs": []
    },
    {
      "cell_type": "code",
      "source": [
        "# ID of the files on Google Drive\n",
        "browsing_behaviour = '1hJn7T9hYcC4qYq-4t-PkjTK_aXkzE-gQ'\n",
        "\n",
        "# Download 'browsing.txt'\n",
        "browsing_downloaded = drive.CreateFile({'id': browsing_behaviour})\n",
        "browsing_downloaded.GetContentFile('browsing.txt')"
      ],
      "metadata": {
        "id": "PciMCbtf1wY8"
      },
      "execution_count": 5,
      "outputs": []
    },
    {
      "cell_type": "code",
      "source": [
        "data = []\n",
        "with open('browsing.txt', 'r') as file:\n",
        "    for line in file:\n",
        "        data.append(line.strip().split())"
      ],
      "metadata": {
        "id": "BbSyqf-t1Kma"
      },
      "execution_count": 6,
      "outputs": []
    },
    {
      "cell_type": "code",
      "source": [
        "# Convert the data into a list of transactions\n",
        "transactions = [list(set(session)) for session in data]"
      ],
      "metadata": {
        "id": "0UqEd2YJ3HLf"
      },
      "execution_count": 7,
      "outputs": []
    },
    {
      "cell_type": "code",
      "source": [
        "min_support = 100 / len(transactions)\n",
        "\n",
        "# Find frequent items in the first pass\n",
        "first_pass_results = list(apriori(transactions, min_support=min_support, min_confidence=0, min_lift=1, max_length=1))\n",
        "\n",
        "# Extract the frequent items from the first pass\n",
        "frequent_items = set()\n",
        "for result in first_pass_results:\n",
        "    frequent_items.update(result.items)\n",
        "\n",
        "# Calculate the number of frequent items found in the first pass\n",
        "num_frequent_items = len(frequent_items)\n",
        "\n",
        "# Perform the sanity check\n",
        "expected_frequent_items_count = 647  # The expected count\n",
        "if num_frequent_items == expected_frequent_items_count:\n",
        "    print(\"Sanity check passed: The number of frequent items matches the expected count.\")\n",
        "else:\n",
        "    print(\"Sanity check failed: The number of frequent items does not match the expected count.\")"
      ],
      "metadata": {
        "colab": {
          "base_uri": "https://localhost:8080/"
        },
        "id": "kzFU0yvG4Q_T",
        "outputId": "77b0c23b-7e82-435d-e6c8-676137b519fa"
      },
      "execution_count": 8,
      "outputs": [
        {
          "output_type": "stream",
          "name": "stdout",
          "text": [
            "Sanity check passed: The number of frequent items matches the expected count.\n"
          ]
        }
      ]
    },
    {
      "cell_type": "code",
      "source": [
        "# Define a function to find frequent pairs\n",
        "def find_frequent_pairs(transactions, min_support):\n",
        "    results = list(apriori(transactions, min_support=min_support, min_confidence=0, min_lift=1, max_length=2))\n",
        "\n",
        "    # Extract pairs with confidence\n",
        "    conf_pairs = []\n",
        "    for result in results:\n",
        "        for ordered_stat in result.ordered_statistics:\n",
        "            x = list(ordered_stat.items_base)\n",
        "            y = list(ordered_stat.items_add)\n",
        "            conf = ordered_stat.confidence\n",
        "            conf_pairs.append(((x, y), conf))\n",
        "\n",
        "    return conf_pairs"
      ],
      "metadata": {
        "id": "BrQV0FBD3H-f"
      },
      "execution_count": 9,
      "outputs": []
    },
    {
      "cell_type": "code",
      "source": [
        "# Find frequent pairs\n",
        "conf_pairs = find_frequent_pairs(transactions, min_support)"
      ],
      "metadata": {
        "id": "B2cpFSVcAY4X"
      },
      "execution_count": 10,
      "outputs": []
    },
    {
      "cell_type": "code",
      "source": [
        "# Sort the rules by confidence and lexicographically\n",
        "conf_pairs.sort(key=lambda x: (-x[1], x[0]))\n",
        "top_5_pairs = conf_pairs[:5]\n",
        "\n",
        "# Print the top 5 pairs\n",
        "for i, (pair, conf) in enumerate(top_5_pairs):\n",
        "    x, y = pair\n",
        "    print(f\"Top Pair Rule {i + 1}: {x} => {y}, Confidence: {conf}\")"
      ],
      "metadata": {
        "colab": {
          "base_uri": "https://localhost:8080/"
        },
        "id": "NnpAj9_p4T3u",
        "outputId": "bdf51838-434f-44a3-ad18-cc0c79ad9cef"
      },
      "execution_count": 11,
      "outputs": [
        {
          "output_type": "stream",
          "name": "stdout",
          "text": [
            "Top Pair Rule 1: ['DAI93865'] => ['FRO40251'], Confidence: 1.0\n",
            "Top Pair Rule 2: ['GRO85051'] => ['FRO40251'], Confidence: 0.9991762767710051\n",
            "Top Pair Rule 3: ['GRO38636'] => ['FRO40251'], Confidence: 0.9906542056074765\n",
            "Top Pair Rule 4: ['ELE12951'] => ['FRO40251'], Confidence: 0.9905660377358491\n",
            "Top Pair Rule 5: ['DAI88079'] => ['FRO40251'], Confidence: 0.9867256637168142\n"
          ]
        }
      ]
    },
    {
      "cell_type": "markdown",
      "source": [
        "(d) Identify item triples (X, Y, Z) such that the support of {X, Y, Z} is at least 100. For all such triples, compute the confidence scores of the corresponding association rules: (X, Y ) ⇒ Z, (X, Z) ⇒ Y , (Y, Z) ⇒ X. Sort the rules in decreasing order of confidence scores and list the top 5 rules in the writeup. Order the left-hand-side pair lexicographically and break ties, if any, by lexicographical order of the first then the second item in the pair."
      ],
      "metadata": {
        "id": "Q-U08N7PzwZ3"
      }
    },
    {
      "cell_type": "markdown",
      "source": [],
      "metadata": {
        "id": "-LHej8NZBW7-"
      }
    },
    {
      "cell_type": "code",
      "source": [
        "# Define a function to find frequent triples\n",
        "def find_frequent_triples(transactions, min_support):\n",
        "    results = list(apriori(transactions, min_support=min_support, min_confidence=0, min_lift=1, max_length=3))\n",
        "\n",
        "    # Extract triples with confidence\n",
        "    conf_triples = []\n",
        "    for result in results:\n",
        "        for ordered_stat in result.ordered_statistics:\n",
        "            x = list(ordered_stat.items_base)\n",
        "            y = list(ordered_stat.items_add)\n",
        "            conf = ordered_stat.confidence\n",
        "            conf_triples.append(((x, y), conf))\n",
        "\n",
        "    return conf_triples"
      ],
      "metadata": {
        "id": "0-Tb_J_I4cb7"
      },
      "execution_count": 12,
      "outputs": []
    },
    {
      "cell_type": "code",
      "source": [
        "# Find frequent triples\n",
        "min_support = 100 / len(transactions)\n",
        "conf_triples = find_frequent_triples(transactions, min_support)"
      ],
      "metadata": {
        "id": "GT2yv2JP42kg"
      },
      "execution_count": 13,
      "outputs": []
    },
    {
      "cell_type": "code",
      "source": [
        "# Sort the rules by confidence and lexicographically\n",
        "conf_triples.sort(key=lambda x: (-x[1], x[0]))\n",
        "top_5_triples = conf_triples[:5]\n",
        "\n",
        "# Print the top 5 triples\n",
        "for i, (triple, conf) in enumerate(top_5_triples):\n",
        "    x, y = triple\n",
        "    print(f\"Top Triple Rule {i + 1}: {x} => {y}, Confidence: {conf}\")"
      ],
      "metadata": {
        "colab": {
          "base_uri": "https://localhost:8080/"
        },
        "id": "ADsyVXeZ45SO",
        "outputId": "a1536c07-4803-4156-974e-078ca7c33db9"
      },
      "execution_count": 14,
      "outputs": [
        {
          "output_type": "stream",
          "name": "stdout",
          "text": [
            "Top Triple Rule 1: ['DAI23334', 'ELE92920'] => ['DAI62779'], Confidence: 1.0\n",
            "Top Triple Rule 2: ['DAI31081', 'GRO85051'] => ['FRO40251'], Confidence: 1.0\n",
            "Top Triple Rule 3: ['DAI55911', 'GRO85051'] => ['FRO40251'], Confidence: 1.0\n",
            "Top Triple Rule 4: ['DAI62779', 'DAI88079'] => ['FRO40251'], Confidence: 1.0\n",
            "Top Triple Rule 5: ['DAI75645', 'GRO85051'] => ['FRO40251'], Confidence: 1.0\n"
          ]
        }
      ]
    }
  ]
}